{
 "metadata": {
  "language_info": {
   "codemirror_mode": {
    "name": "ipython",
    "version": 3
   },
   "file_extension": ".py",
   "mimetype": "text/x-python",
   "name": "python",
   "nbconvert_exporter": "python",
   "pygments_lexer": "ipython3",
   "version": "3.8.2-final"
  },
  "orig_nbformat": 2,
  "kernelspec": {
   "name": "python3",
   "display_name": "Python 3",
   "language": "python"
  }
 },
 "nbformat": 4,
 "nbformat_minor": 2,
 "cells": [
  {
   "cell_type": "code",
   "execution_count": 8,
   "metadata": {},
   "outputs": [],
   "source": [
    "from elasticsearch import Elasticsearch, helpers\n",
    "import geopandas as gpd\n",
    "import pandas as pd\n",
    "\n",
    "# connect to Elasticsearch\n",
    "es = Elasticsearch(['http://localhost:9200'])\n",
    "\n",
    "# load sample data\n",
    "sample = pd.read_csv('./data/ukpostcodes.csv',\n",
    "                     usecols=['postcode', 'latitude', 'longitude'])\n",
    "\n",
    "man_postcodes = sample[sample.postcode.str.startswith('M')]"
   ]
  },
  {
   "cell_type": "code",
   "execution_count": 9,
   "metadata": {},
   "outputs": [
    {
     "output_type": "execute_result",
     "data": {
      "text/plain": [
       "       postcode   latitude  longitude\n",
       "723093  ML9 3PN  55.701404  -3.951959\n",
       "723094  ML9 3PP  55.697406  -3.944010\n",
       "723095  ML9 3PQ  55.703840  -3.993938\n",
       "723096  ML9 3PR  55.689201  -3.953610\n",
       "723097  ML9 3PS  55.682686  -3.961749"
      ],
      "text/html": "<div>\n<style scoped>\n    .dataframe tbody tr th:only-of-type {\n        vertical-align: middle;\n    }\n\n    .dataframe tbody tr th {\n        vertical-align: top;\n    }\n\n    .dataframe thead th {\n        text-align: right;\n    }\n</style>\n<table border=\"1\" class=\"dataframe\">\n  <thead>\n    <tr style=\"text-align: right;\">\n      <th></th>\n      <th>postcode</th>\n      <th>latitude</th>\n      <th>longitude</th>\n    </tr>\n  </thead>\n  <tbody>\n    <tr>\n      <th>723093</th>\n      <td>ML9 3PN</td>\n      <td>55.701404</td>\n      <td>-3.951959</td>\n    </tr>\n    <tr>\n      <th>723094</th>\n      <td>ML9 3PP</td>\n      <td>55.697406</td>\n      <td>-3.944010</td>\n    </tr>\n    <tr>\n      <th>723095</th>\n      <td>ML9 3PQ</td>\n      <td>55.703840</td>\n      <td>-3.993938</td>\n    </tr>\n    <tr>\n      <th>723096</th>\n      <td>ML9 3PR</td>\n      <td>55.689201</td>\n      <td>-3.953610</td>\n    </tr>\n    <tr>\n      <th>723097</th>\n      <td>ML9 3PS</td>\n      <td>55.682686</td>\n      <td>-3.961749</td>\n    </tr>\n  </tbody>\n</table>\n</div>"
     },
     "metadata": {},
     "execution_count": 9
    }
   ],
   "source": [
    "man_postcodes.head()"
   ]
  }
 ]
}