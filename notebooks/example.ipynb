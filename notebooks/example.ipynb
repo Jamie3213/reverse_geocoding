{
 "metadata": {
  "language_info": {
   "codemirror_mode": {
    "name": "ipython",
    "version": 3
   },
   "file_extension": ".py",
   "mimetype": "text/x-python",
   "name": "python",
   "nbconvert_exporter": "python",
   "pygments_lexer": "ipython3",
   "version": "3.8.2-final"
  },
  "orig_nbformat": 2,
  "kernelspec": {
   "name": "python3",
   "display_name": "Python 3.8.2 64-bit ('venv': venv)",
   "metadata": {
    "interpreter": {
     "hash": "ef2a47647ea3965c1c2fa542ec50f96c65ccd6367749a37edfb034ebabb15a32"
    }
   }
  }
 },
 "nbformat": 4,
 "nbformat_minor": 2,
 "cells": [
  {
   "cell_type": "code",
   "execution_count": 1,
   "metadata": {},
   "outputs": [],
   "source": [
    "from elasticsearch import Elasticsearch, helpers\n",
    "import json\n",
    "import pandas as pd\n",
    "\n",
    "# connect to Elasticsearch\n",
    "es = Elasticsearch(['http://localhost:9200'])\n",
    "\n",
    "# load sample data\n",
    "sample = pd.read_csv('../data/ukpostcodes.csv',\n",
    "                     usecols=['postcode', 'latitude', 'longitude'])\n",
    "\n",
    "# filter to Manchester postcodes\n",
    "man_postcodes = sample[sample.postcode.str.contains('^M\\d+')].reset_index(drop=True)"
   ]
  },
  {
   "cell_type": "code",
   "execution_count": 2,
   "metadata": {},
   "outputs": [
    {
     "output_type": "execute_result",
     "data": {
      "text/plain": [
       "  postcode   latitude  longitude\n",
       "0   M9 8PA  53.533045  -2.234080\n",
       "1   M9 8PB  53.532879  -2.236327\n",
       "2   M9 8PD  53.532303  -2.236429\n",
       "3   M9 8PE  53.532425  -2.238195\n",
       "4   M9 8PF  53.533084  -2.237158"
      ],
      "text/html": "<div>\n<style scoped>\n    .dataframe tbody tr th:only-of-type {\n        vertical-align: middle;\n    }\n\n    .dataframe tbody tr th {\n        vertical-align: top;\n    }\n\n    .dataframe thead th {\n        text-align: right;\n    }\n</style>\n<table border=\"1\" class=\"dataframe\">\n  <thead>\n    <tr style=\"text-align: right;\">\n      <th></th>\n      <th>postcode</th>\n      <th>latitude</th>\n      <th>longitude</th>\n    </tr>\n  </thead>\n  <tbody>\n    <tr>\n      <th>0</th>\n      <td>M9 8PA</td>\n      <td>53.533045</td>\n      <td>-2.234080</td>\n    </tr>\n    <tr>\n      <th>1</th>\n      <td>M9 8PB</td>\n      <td>53.532879</td>\n      <td>-2.236327</td>\n    </tr>\n    <tr>\n      <th>2</th>\n      <td>M9 8PD</td>\n      <td>53.532303</td>\n      <td>-2.236429</td>\n    </tr>\n    <tr>\n      <th>3</th>\n      <td>M9 8PE</td>\n      <td>53.532425</td>\n      <td>-2.238195</td>\n    </tr>\n    <tr>\n      <th>4</th>\n      <td>M9 8PF</td>\n      <td>53.533084</td>\n      <td>-2.237158</td>\n    </tr>\n  </tbody>\n</table>\n</div>"
     },
     "metadata": {},
     "execution_count": 2
    }
   ],
   "source": [
    "man_postcodes.head()"
   ]
  },
  {
   "cell_type": "code",
   "execution_count": 3,
   "metadata": {},
   "outputs": [],
   "source": [
    "# construct Multi-Search API call\n",
    "# list of queries\n",
    "queries = []\n",
    "for row in man_postcodes.itertuples():\n",
    "    lon = row.longitude\n",
    "    lat = row.latitude\n",
    "    query = {\n",
    "        'size': 1,\n",
    "        '_source': {'exclude': ['geometry', 'level1*', 'level2*', 'level3_id', 'level_mapping']},\n",
    "        'query': {\n",
    "            'bool': {\n",
    "                'filter': {\n",
    "                    'geo_shape': {\n",
    "                        'geometry': {\n",
    "                            'shape': {\n",
    "                                'type': 'point',\n",
    "                                'coordinates': [lon, lat]\n",
    "                            }\n",
    "                        }\n",
    "                    }\n",
    "                }\n",
    "            }\n",
    "        }\n",
    "    }\n",
    "    queries.append(query)\n",
    "\n",
    "# convert each dict to a string\n",
    "queries_str = [json.dumps(query) for query in queries]\n",
    "\n",
    "# split list into batches of 1,000 queries\n",
    "def make_batches(lst, batch_size):\n",
    "    for i in range(0, len(lst), batch_size):\n",
    "        yield lst[i:i + batch_size]\n",
    "batches = [batch for batch in make_batches(queries_str, 1_000)]\n",
    "\n",
    "# format as new line delimited JSON\n",
    "ndjson_batches = ['{}\\n' + '\\n{}\\n'.join(batch) + '\\n' for batch in batches]"
   ]
  },
  {
   "cell_type": "code",
   "execution_count": 8,
   "metadata": {},
   "outputs": [
    {
     "output_type": "stream",
     "name": "stdout",
     "text": [
      "520 ms ± 124 ms per loop (mean ± std. dev. of 7 runs, 1 loop each)\n"
     ]
    }
   ],
   "source": [
    "%%timeit\n",
    "# TEST on 1,000 docs - query Elasticsearch with Multi-Search API\n",
    "results = es.msearch(body=ndjson_batches[0], index='census_boundaries')"
   ]
  },
  {
   "cell_type": "code",
   "execution_count": 11,
   "metadata": {},
   "outputs": [
    {
     "output_type": "stream",
     "name": "stdout",
     "text": [
      "4.64 s ± 64.1 ms per loop (mean ± std. dev. of 7 runs, 1 loop each)\n"
     ]
    }
   ],
   "source": [
    "%%timeit\n",
    "# TEST - query Elasticsearch with Search API in a for-loop\n",
    "results = [es.search(body=queries[i], index='census_boundaries') for i, _ in enumerate(queries[0:999])]"
   ]
  },
  {
   "cell_type": "code",
   "execution_count": 12,
   "metadata": {},
   "outputs": [],
   "source": [
    "# query Elasticsearch with Multi-Search API\n",
    "results = [es.msearch(body=batch, index='census_boundaries') for batch in ndjson_batches]\n",
    "\n",
    "# parse results\n",
    "responses = [result.get('responses') for result in results]\n",
    "source = [item.get('hits').get('hits')[0].get('_source') for response in responses \n",
    "                                                         for item in response]"
   ]
  },
  {
   "cell_type": "code",
   "execution_count": 13,
   "metadata": {},
   "outputs": [],
   "source": [
    "# convert to dataframe\n",
    "census_blocks = pd.DataFrame(source)\n",
    "\n",
    "# column bind with original dataframe\n",
    "mapped_postcodes = pd.concat([man_postcodes, census_blocks], axis='columns')\n",
    "mapped_postcodes = mapped_postcodes.loc[:, ['postcode', 'level4_name', 'level3_name', \n",
    "                                            'level0_id', 'latitude', 'longitude']]"
   ]
  },
  {
   "cell_type": "code",
   "execution_count": 14,
   "metadata": {},
   "outputs": [
    {
     "output_type": "execute_result",
     "data": {
      "text/plain": [
       "  postcode level4_name level3_name  level0_id   latitude  longitude\n",
       "0   M9 8PA     England  Manchester  E00025808  53.533045  -2.234080\n",
       "1   M9 8PB     England  Manchester  E00025812  53.532879  -2.236327\n",
       "2   M9 8PD     England  Manchester  E00025811  53.532303  -2.236429\n",
       "3   M9 8PE     England  Manchester  E00025811  53.532425  -2.238195\n",
       "4   M9 8PF     England  Manchester  E00025812  53.533084  -2.237158"
      ],
      "text/html": "<div>\n<style scoped>\n    .dataframe tbody tr th:only-of-type {\n        vertical-align: middle;\n    }\n\n    .dataframe tbody tr th {\n        vertical-align: top;\n    }\n\n    .dataframe thead th {\n        text-align: right;\n    }\n</style>\n<table border=\"1\" class=\"dataframe\">\n  <thead>\n    <tr style=\"text-align: right;\">\n      <th></th>\n      <th>postcode</th>\n      <th>level4_name</th>\n      <th>level3_name</th>\n      <th>level0_id</th>\n      <th>latitude</th>\n      <th>longitude</th>\n    </tr>\n  </thead>\n  <tbody>\n    <tr>\n      <th>0</th>\n      <td>M9 8PA</td>\n      <td>England</td>\n      <td>Manchester</td>\n      <td>E00025808</td>\n      <td>53.533045</td>\n      <td>-2.234080</td>\n    </tr>\n    <tr>\n      <th>1</th>\n      <td>M9 8PB</td>\n      <td>England</td>\n      <td>Manchester</td>\n      <td>E00025812</td>\n      <td>53.532879</td>\n      <td>-2.236327</td>\n    </tr>\n    <tr>\n      <th>2</th>\n      <td>M9 8PD</td>\n      <td>England</td>\n      <td>Manchester</td>\n      <td>E00025811</td>\n      <td>53.532303</td>\n      <td>-2.236429</td>\n    </tr>\n    <tr>\n      <th>3</th>\n      <td>M9 8PE</td>\n      <td>England</td>\n      <td>Manchester</td>\n      <td>E00025811</td>\n      <td>53.532425</td>\n      <td>-2.238195</td>\n    </tr>\n    <tr>\n      <th>4</th>\n      <td>M9 8PF</td>\n      <td>England</td>\n      <td>Manchester</td>\n      <td>E00025812</td>\n      <td>53.533084</td>\n      <td>-2.237158</td>\n    </tr>\n  </tbody>\n</table>\n</div>"
     },
     "metadata": {},
     "execution_count": 14
    }
   ],
   "source": [
    "mapped_postcodes.head()"
   ]
  }
 ]
}